{
 "cells": [
  {
   "cell_type": "markdown",
   "metadata": {
    "colab_type": "text",
    "id": "l0ZzOlyxB-kf"
   },
   "source": [
    "<h1>Python: without numpy or sklearn </h1>"
   ]
  },
  {
   "cell_type": "markdown",
   "metadata": {
    "colab_type": "text",
    "id": "C0xO8JV9B-ki"
   },
   "source": [
    "<h3> Q1: Given two matrices please print the product of those two matrices </h3>\n",
    "<pre>\n",
    "\n",
    "Ex 1: A   = [[1 3 4]\n",
    "             [2 5 7]\n",
    "             [5 9 6]]\n",
    "      B   = [[1 0 0]\n",
    "             [0 1 0]\n",
    "             [0 0 1]]\n",
    "      A*B = [[1 3 4]\n",
    "             [2 5 7]\n",
    "             [5 9 6]]\n",
    "\n",
    "     \n",
    "Ex 2: A   = [[1 2]\n",
    "             [3 4]]\n",
    "      B   = [[1 2 3 4 5]\n",
    "             [5 6 7 8 9]]\n",
    "      A*B = [[11 14 17 20 23]\n",
    "             [23 30 37 44 51]]\n",
    "             \n",
    "Ex 3: A   = [[1 2]\n",
    "             [3 4]]\n",
    "      B   = [[1 4]\n",
    "             [5 6]\n",
    "             [7 8]\n",
    "             [9 6]]\n",
    "      A*B =Not possible\n",
    "</pre>"
   ]
  },
  {
   "cell_type": "markdown",
   "metadata": {},
   "source": [
    "# referances \n",
    "1. w3schools\n",
    "2. geeks for geeks\n",
    "3. program quiz \n",
    "4. kaggle problems "
   ]
  },
  {
   "cell_type": "code",
   "execution_count": 16,
   "metadata": {
    "colab": {},
    "colab_type": "code",
    "id": "rnssAfpgB-kj"
   },
   "outputs": [
    {
     "name": "stdout",
     "output_type": "stream",
     "text": [
      "Result of matrix multiplication of A and B is : \n",
      "[26, 29, 40]\n",
      "[48, 88, 89]\n",
      "[105, 144, 173]\n"
     ]
    }
   ],
   "source": [
    "# write your python code here\n",
    "# you can take the above example as sample input for your program to test\n",
    "# it should work for any general input try not to hard code for only given input examples\n",
    "# you can take matrix input from user or you can directly define the matrix and give input to the function\n",
    "# reference for creating input - https://stackoverflow.com/questions/12293208/how-to-create-a-list-of-lists\n",
    "\n",
    "# you can free to change all these codes/structure\n",
    "# here A and B are list of lists\n",
    "def Multiply_multiplication(A,B):\n",
    "    \n",
    "    result=[ [0,0,0],    # here i m creating a lit of matix numbers of my variable result \n",
    "            [0,0,0],\n",
    "            [0,0,0] ]\n",
    "   \n",
    "    for i in range(len(A)):   # this is range for row \n",
    "        \n",
    "        for j in range(len(B[0])):# this is range for column \n",
    "          \n",
    "            for k in range(len(B)):   \n",
    "                result[i][j] += A[i][k] * B[k][j]\n",
    "\n",
    "    for p in result:\n",
    "        print(p)\n",
    "\n",
    "   \n",
    "\n",
    "A = [ [1, 2, 3],\n",
    "     [6, 7, 4],\n",
    "     [8, 10, 11] ]\n",
    "  \n",
    "B = [[1, 5, 3],\n",
    "     [2, 6, 5],\n",
    "     [7, 4, 9] ]\n",
    "\n",
    "print(\"Result of matrix multiplication of A and B is : \")\n",
    "Multiply_multiplication(A,B)\n",
    "                \n",
    "      "
   ]
  },
  {
   "cell_type": "markdown",
   "metadata": {
    "colab_type": "text",
    "id": "at4VwLggB-kn"
   },
   "source": [
    "<h3> Q2: Proportional Sampling - Select a number randomly with probability proportional to its magnitude from the given array of n elements</h3>\n",
    "\n",
    "Consider an experiment, selecting an element from the list A randomly with probability proportional to its magnitude.\n",
    "assume we are doing the same experiment for 100 times with replacement, in each experiment you will print a number that is selected randomly from A.\n",
    "\n",
    "<pre>\n",
    "Ex 1: A = [0 5 27 6 13 28 100 45 10 79]\n",
    "let f(x) denote the number of times x getting selected in 100 experiments.\n",
    "f(100) > f(79) > f(45) > f(28) > f(27) > f(13) > f(10) > f(6) > f(5) > f(0)\n",
    "</pre>"
   ]
  },
  {
   "cell_type": "code",
   "execution_count": 2,
   "metadata": {
    "colab": {},
    "colab_type": "code",
    "id": "B6S2dpBhB-kn"
   },
   "outputs": [
    {
     "name": "stdout",
     "output_type": "stream",
     "text": [
      "(1, 5, 27, 6, 13, 28, 100, 45, 10, 79) 314\n",
      "312\n",
      "295\n",
      "135\n",
      "199\n",
      "181\n",
      "186\n",
      "246\n",
      "34\n",
      "24\n",
      "118\n",
      "16\n",
      "112\n",
      "224\n",
      "274\n",
      "109\n",
      "0\n",
      "124\n",
      "8\n",
      "286\n",
      "109\n",
      "169\n",
      "136\n",
      "66\n",
      "284\n",
      "16\n",
      "271\n",
      "25\n",
      "278\n",
      "159\n",
      "154\n",
      "220\n",
      "61\n",
      "275\n",
      "115\n",
      "24\n",
      "34\n",
      "292\n",
      "28\n",
      "250\n",
      "26\n",
      "36\n",
      "261\n",
      "313\n",
      "102\n",
      "238\n",
      "43\n",
      "46\n",
      "174\n",
      "169\n",
      "234\n",
      "299\n",
      "72\n",
      "163\n",
      "100\n",
      "182\n",
      "1\n",
      "57\n",
      "12\n",
      "120\n",
      "106\n",
      "226\n",
      "90\n",
      "306\n",
      "118\n",
      "200\n",
      "237\n",
      "18\n",
      "269\n",
      "99\n",
      "195\n",
      "122\n",
      "266\n",
      "64\n",
      "102\n",
      "239\n",
      "4\n",
      "257\n",
      "57\n",
      "188\n",
      "223\n",
      "231\n",
      "71\n",
      "170\n",
      "283\n",
      "176\n",
      "76\n",
      "255\n",
      "225\n",
      "201\n",
      "72\n",
      "267\n",
      "38\n",
      "244\n",
      "39\n",
      "37\n",
      "158\n",
      "30\n",
      "11\n",
      "41\n",
      "{0: 97, 5: 2}\n"
     ]
    }
   ],
   "source": [
    "import random\n",
    "# write your python code here\n",
    "# you can take the above example as sample input for your program to test\n",
    "# it should work for any general input try not to hard code for only given input examples\n",
    "\n",
    "#video link for the topic - https://www.appliedaicourse.com/lecture/11/applied-machine-learning-online-course/2876/proportional-sampling/2/module-2-data-science-exploratory-data-analysis-and-data-visualization\n",
    "# you can free to change all these codes/structure\n",
    "\n",
    "\n",
    "def pick_randomvalue_fromlist(A):\n",
    "    sum = 0   # here i m creating a empty variable sum to save my output \n",
    "    cum_sum = []   # here i m intiating a cum_sum from emplty list \n",
    "    \n",
    "    for K in range (len(A)):\n",
    "        sum = sum + A[K]\n",
    "        cum_sum.append(sum)  # here we will add the sum vlaue in cum_sum to get total value \n",
    "        \n",
    "    \n",
    "    r = int (random.uniform(0, sum ))  # here i m creating the random number \n",
    "    print(r)\n",
    "    number =0\n",
    "    for index in range (len(cum_sum)):\n",
    "        if (r >= cum_sum[index]  and r < cum_sum[index+1]):\n",
    "            return A[index+1]\n",
    "        return number \n",
    "    \n",
    "def sample_magnitude():  \n",
    "    A = (1, 5, 27, 6, 13, 28, 100, 45, 10, 79)\n",
    "    a = dict()    # here i have created the empty dictionary \n",
    "    \n",
    "    print(A, sum(A))\n",
    "    \n",
    "    for K in range(1,100):\n",
    "        number = pick_randomvalue_fromlist(A)   # here we will pick the random number from the given range  1 to 500\n",
    "        if number not in a:\n",
    "            a[number] = 1\n",
    "        else:\n",
    "            a[number]+=1\n",
    "    print(a)\n",
    "\n",
    "    \n",
    "\n",
    "\n",
    "sample_magnitude()   # now we will call the our output of sample magnitude "
   ]
  },
  {
   "cell_type": "markdown",
   "metadata": {
    "colab_type": "text",
    "id": "D1xQy2WWB-kq"
   },
   "source": [
    "<h3> Q3: Replace the digits in the string with #</h3>\n",
    "\n",
    "consider a string that will have digits in that, we need to remove all the not digits and replace the digits with #\n",
    "<pre>\n",
    "Ex 1: A = 234                Output: ###\n",
    "Ex 2: A = a2b3c4             Output: ###\n",
    "Ex 3: A = abc                Output:   (empty string)\n",
    "Ex 5: A = #2a$#b%c%561#      Output: ####\n",
    "</pre>"
   ]
  },
  {
   "cell_type": "code",
   "execution_count": 11,
   "metadata": {
    "colab": {},
    "colab_type": "code",
    "id": "fxczi2jzB-kr"
   },
   "outputs": [
    {
     "name": "stdout",
     "output_type": "stream",
     "text": [
      "my original string : my Name is Anuj and i m 21 year old  .and i enrolled in applied ai course in 2022 and my phone no is 115544885545\n",
      "-------************-----------------************-----------------**********-------------***\n",
      "my new string is : my Name is Anuj and i m ## year old  .and i enrolled in applied ai course in #### and my phone no is ############\n"
     ]
    }
   ],
   "source": [
    "import re\n",
    "# write your python code here\n",
    "# you can take the above example as sample input for your program to test\n",
    "# it should work for any general input try not to hard code for only given input examples\n",
    "# try to complete this question using regular expressions\n",
    "# you can free to change all these codes/structure\n",
    "# String: it will be the input to your program\n",
    "\n",
    "my_string = \" my Name is Anuj and i m 21 year old  .and i enrolled in applied ai course in 2022 and my phone no is 115544885545\"\n",
    "\n",
    "print(\"my original string :\" + str(my_string))\n",
    "\n",
    "S = \"#\"\n",
    "\n",
    "for ele in my_string:\n",
    "    if ele.isdigit():\n",
    "        my_string =my_string.replace(ele, S)\n",
    "\n",
    "print(\"-------************-----------------************-----------------**********-------------***\")\n",
    "\n",
    "print(\"my new string is :\" + str(my_string))"
   ]
  },
  {
   "cell_type": "markdown",
   "metadata": {
    "colab_type": "text",
    "id": "j7h0Ywg7B-kw"
   },
   "source": [
    "<h3> Q4: Students marks dashboard</h3>\n",
    "\n",
    "consider the marks list of class students given two lists <br>\n",
    "Students = ['student1','student2','student3','student4','student5','student6','student7','student8','student9','student10'] <br>\n",
    "Marks = [45, 78, 12, 14, 48, 43, 45, 98, 22, 80] <br>\n",
    "from the above two lists the Student[0] got Marks[0],  Student[1] got Marks[1] and so on <br><br>\n",
    "your task is to print the name of students\n",
    "<strong>a. Who got top 5 ranks, in the descending order of marks</strong> <br>\n",
    "<strong>b. Who got least 5 ranks, in the increasing order of marks</strong><br>\n",
    "<strong>d. Who got marks between  &gt;25th percentile &lt;75th percentile, in the increasing order of marks</strong>\n",
    "\n",
    "<pre>\n",
    "Ex 1: \n",
    "Students=['student1','student2','student3','student4','student5','student6','student7','student8','student9','student10'] \n",
    "Marks = [45, 78, 12, 14, 48, 43, 47, 98, 22, 80]\n",
    "a. \n",
    "student8  98\n",
    "student10 80\n",
    "student2  78\n",
    "student5  48\n",
    "student7  47\n",
    "b.\n",
    "student3 12\n",
    "student4 14\n",
    "student9 22\n",
    "student6 43\n",
    "student1 45\n",
    "c.\n",
    "student9 22\n",
    "student6 43\n",
    "student1 45\n",
    "student7 47\n",
    "student5 48\n",
    "</pre>"
   ]
  },
  {
   "cell_type": "code",
   "execution_count": 8,
   "metadata": {
    "colab": {},
    "colab_type": "code",
    "id": "cxPJgItsB-kx"
   },
   "outputs": [
    {
     "name": "stdout",
     "output_type": "stream",
     "text": [
      "[('student8', 98), ('student10', 80), ('student2', 78), ('student5', 48), ('student7', 47)]\n",
      "[('student3', 12), ('student4', 14), ('student9', 35), ('student6', 43), ('student1', 45)]\n",
      "[('student9', 35), ('student6', 43), ('student1', 45), ('student7', 47), ('student5', 48)]\n"
     ]
    }
   ],
   "source": [
    "# write your python code here\n",
    "# you can take the above example as sample input for your program to test\n",
    "# it should work for any general input try not to hard code for only given input examples\n",
    "\n",
    "\n",
    "Students=['student1','student2','student3','student4','student5','student6','student7','student8','student9','student10']\n",
    "Marks = [45, 78, 12, 14, 48, 43, 47, 98, 22, 80]\n",
    "\n",
    "grades =list(zip(Students, Marks))\n",
    "\n",
    "grades.sort(key = lambda e : e[1])\n",
    "\n",
    "# you can free to change all these codes/structure\n",
    "def display_dash_board(students, marks):\n",
    "    # write code for computing top top 5 students\n",
    "    top_5 = grades[:5]\n",
    "    top = top_5[::-1]\n",
    "    top_5_student= top \n",
    "    \n",
    "    # write code for computing top least 5 students\n",
    "    least = grades[:5]\n",
    "    least_5_students = least # compute this\n",
    "    \n",
    "    \n",
    "    # write code for computing top least 5 students\n",
    "    twenty_fifth = math.ceil(len(grades)//4)\n",
    "    seventy_fifth = math.floor(3 *(len(grades)//4))\n",
    "    middle = grades [twenty_fifth : seventy_fifth]\n",
    "    students_within_25_and_75 =middile  # compute this\n",
    "     \n",
    "    return top_5_students, least_5_students, students_within_25_and_75\n",
    "\n",
    "    top_5_students, least_5_students, students_within_25_and_75 = display_dash_board(students, marks)\n",
    "print(top_5_students)\n",
    "print(least_5_students)\n",
    "print( students_within_25_and_75)"
   ]
  },
  {
   "cell_type": "markdown",
   "metadata": {
    "colab_type": "text",
    "id": "qha0OhQHB-k1"
   },
   "source": [
    "<h3> Q5: Find the closest points</h3>\n",
    "\n",
    "Consider you have given n data points in the form of list of tuples like S=[(x1,y1),(x2,y2),(x3,y3),(x4,y4),(x5,y5),..,(xn,yn)] and a point P=(p,q) <br> Your task is to find 5 closest points(based on cosine distance) in S from P\n",
    "<br>Cosine distance between two points (x,y) and (p,q) is defind as $cos^{-1}(\\frac{(x\\cdot p+y\\cdot q)}{\\sqrt(x^2+y^2)\\cdot\\sqrt(p^2+q^2)})$\n",
    "<pre>\n",
    "Ex:\n",
    "\n",
    "S= [(1,2),(3,4),(-1,1),(6,-7),(0, 6),(-5,-8),(-1,-1),(6,0),(1,-1)]\n",
    "P= (3,-4)\n",
    "\n",
    "<img src='https://i.imgur.com/vyZZQGu.png' width=400>\n",
    "\n",
    "Output:\n",
    "(6,-7)\n",
    "(1,-1)\n",
    "(6,0)\n",
    "(-5,-8)\n",
    "(-1,-1)\n",
    "</pre>\n",
    " Hint - If you write the formula correctly you'll get the distance between points (6,-7) and (3,-4) = 0.065"
   ]
  },
  {
   "cell_type": "code",
   "execution_count": 6,
   "metadata": {
    "colab": {},
    "colab_type": "code",
    "id": "wA5I1g-2B-k2"
   },
   "outputs": [
    {
     "name": "stdout",
     "output_type": "stream",
     "text": [
      "Closest point-cosine-distance - top 5:\n",
      "(6, -7)\n",
      "(1, -1)\n",
      "(6, 0)\n",
      "(-5, -8)\n",
      "(-1, -1)\n"
     ]
    }
   ],
   "source": [
    "\n",
    "\n",
    "# write your python code here\n",
    "# you can take the above example as sample input for your program to test\n",
    "# it should work for any general input try not to hard code for only given input examples\n",
    "# you can free to change all these codes/structure\n",
    "\n",
    "\n",
    "# here S is list of tuples and P is a tuple ot len=2\n",
    "\n",
    "import math\n",
    "def closest_point(S, P):\n",
    "    closest_point = []                      # here i m creating empty list to safe my variable intially \n",
    "    my_final_list_of_points = []\n",
    "    \n",
    "     # here i m writing my varibale dinomirator and nomirator according to formula that we have cosine dist \n",
    "\n",
    "    for point in S:\n",
    "        dinomirator = math.sqrt((point[0] ** 2) + (point[1] ** 2)) * math.sqrt((P[0] ** 2) + (P[1] ** 2))\n",
    "        nomirator = point[0] * P[0] + point[1] * P[1]\n",
    "\n",
    "        if dinomirator != 0:       # here my main case of execuation of my formula\n",
    "            cosine_distance_for_this_point = math.acos(nomirator / dinomirator)\n",
    "            closest_point.append((cosine_distance_for_this_point, point))\n",
    "\n",
    "    for item in sorted(closest_point, key=lambda x: x[0])[:5]:        # here i m using the lambda function to sort my all value in given range \n",
    "         my_final_list_of_points .append(item[1])\n",
    "\n",
    "    return  my_final_list_of_points \n",
    "\n",
    "\n",
    "S = [(1, 2), (3, 4), (-1, 1), (6, -7), (0, 6), (-5, -8), (-1, -1), (6, 0), (1, -1)]        # here is my value for closest point program \n",
    "P = (3, -4)\n",
    "\n",
    "closest_point = closest_point(S, P)\n",
    "print(\"Closest point-cosine-distance - top 5:\", *[point for point in  closest_point], sep=\"\\n\")\n",
    "            "
   ]
  },
  {
   "cell_type": "markdown",
   "metadata": {
    "colab_type": "text",
    "id": "-g11jeAiB-k5"
   },
   "source": [
    "<h3> Q6: Find Which line separates oranges and apples</h3>\n",
    "consider you have given two set of data points in the form of list of tuples like \n",
    "<pre>\n",
    "Red =[(R11,R12),(R21,R22),(R31,R32),(R41,R42),(R51,R52),..,(Rn1,Rn2)]\n",
    "Blue=[(B11,B12),(B21,B22),(B31,B32),(B41,B42),(B51,B52),..,(Bm1,Bm2)]\n",
    "</pre>\n",
    "and set of line equations(in the string formate, i.e list of strings)\n",
    "<pre>\n",
    "Lines = [a1x+b1y+c1,a2x+b2y+c2,a3x+b3y+c3,a4x+b4y+c4,..,K lines]\n",
    "Note: you need to string parsing here and get the coefficients of x,y and intercept\n",
    "</pre>\n",
    "your task is to for each line that is given print \"YES\"/\"NO\", you will print yes, if all the red points are one side of the line and blue points are other side of the line, otherwise no\n",
    "<pre>\n",
    "Ex:\n",
    "Red= [(1,1),(2,1),(4,2),(2,4), (-1,4)]\n",
    "Blue= [(-2,-1),(-1,-2),(-3,-2),(-3,-1),(1,-3)]\n",
    "Lines=[\"1x+1y+0\",\"1x-1y+0\",\"1x+0y-3\",\"0x+1y-0.5\"]\n",
    "<img src='https://i.imgur.com/mSnQW5K.png' width=400>\n",
    "\n",
    "Output:\n",
    "YES\n",
    "NO\n",
    "NO\n",
    "YES\n",
    "</pre>"
   ]
  },
  {
   "cell_type": "code",
   "execution_count": 6,
   "metadata": {
    "colab": {},
    "colab_type": "code",
    "id": "eRxExaTRB-k6"
   },
   "outputs": [
    {
     "name": "stdout",
     "output_type": "stream",
     "text": [
      "YES\n",
      "NO\n",
      "NO\n",
      "YES\n"
     ]
    }
   ],
   "source": [
    "import math\n",
    "# write your python code here\n",
    "# you can take the above example as sample input for your program to test\n",
    "# it should work for any general input try not to hard code for only given input strings\n",
    "\n",
    "\n",
    "\n",
    "def find_which_line_seperate(red, blue, line):\n",
    "    red_point_sign = -1\n",
    "\n",
    "    if eval(line.replace('x', '*%s' % red[0][0]).replace('y', '*%s' % red[0][1])) > 0:\n",
    "        red_point_sign  = 1\n",
    "        \n",
    "        # in the above we checking the contidition by f statement that if value is greater than  or not \n",
    "\n",
    "    for r_pt in red:\n",
    "        if red_point_sign  == 1 and eval(\n",
    "                line.replace('x', '*%s' % r_pt[0]).replace('y', '*%s' % r_pt[1])) < 0:\n",
    "            return 'NO'\n",
    "        # here we are checking that if the red point sign is  then vlaue is less than  then return no in result \n",
    "        \n",
    "\n",
    "        if red_point_sign  == -1 and eval(\n",
    "                line.replace('x', '*%s' % r_pt[0]).replace('y', '*%s' % r_pt[1])) > 0:\n",
    "            return 'NO'\n",
    "        # in this line we are checking when value of red point is - and value of red point is greater then  return no \n",
    "\n",
    "\n",
    "    blue_point_sign = -1 * red_point_sign # now here we are executing our formula \n",
    "\n",
    "    for b_pts in blue:\n",
    "        if blue_point_sign == 1 and eval(\n",
    "                line.replace('x', '*%s' % b_pts[0]).replace('y', '*%s' % b_pts[1])) < 0:\n",
    "            return 'NO'\n",
    "        \n",
    "        if blue_point_sign == -1 and eval(\n",
    "                line.replace('x', '*%s' % b_pts[0]).replace('y', '*%s' % b_pts[1])) > 0:\n",
    "            return 'NO'\n",
    "\n",
    "    return 'YES'\n",
    "\n",
    "Red= [(1,1),(2,1),(4,2),(2,4), (-1,4)]\n",
    "Blue= [(-2,-1),(-1,-2),(-3,-2),(-3,-1),(1,-3)]\n",
    "Lines=[\"1x+1y+0\",\"1x-1y+0\",\"1x+0y-3\",\"0x+1y-0.5\"]\n",
    "\n",
    "for i in Lines:\n",
    "    yes_or_no = find_which_line_seperate(Red, Blue, i)\n",
    "    print(yes_or_no) "
   ]
  },
  {
   "cell_type": "markdown",
   "metadata": {
    "colab_type": "text",
    "id": "9OBpURbNB-k9"
   },
   "source": [
    "<h3> Q7: Filling the missing values in the specified formate</h3>\n",
    "You will be given a string with digits and '\\_'(missing value) symbols you have to replace the '\\_' symbols as explained \n",
    "<pre>\n",
    "Ex 1: _, _, _, 24 ==> 24/4, 24/4, 24/4, 24/4 i.e we. have distributed the 24 equally to all 4 places <br>\n",
    "Ex 2: 40, _, _, _, 60 ==> (60+40)/5,(60+40)/5,(60+40)/5,(60+40)/5,(60+40)/5 ==> 20, 20, 20, 20, 20 i.e. the sum of (60+40) is distributed qually to all 5 places<br>\n",
    "Ex 3: 80, _, _, _, _  ==> 80/5,80/5,80/5,80/5,80/5 ==> 16, 16, 16, 16, 16 i.e. the 80 is distributed qually to all 5 missing values that are right to it<br>\n",
    "Ex 4: _, _, 30, _, _, _, 50, _, _  \n",
    "==> we will fill the missing values from left to right \n",
    "    a. first we will distribute the 30 to left two missing values (10, 10, 10, _, _, _, 50, _, _)\n",
    "    b. now distribute the sum (10+50) missing values in between (10, 10, 12, 12, 12, 12, 12, _, _) \n",
    "    c. now we will distribute 12 to right side missing values (10, 10, 12, 12, 12, 12, 4, 4, 4)\n",
    "</pre>\n",
    "for a given string with comma seprate values, which will have both missing values numbers like ex: \"_, _, x, _, _, _\"\n",
    "you need fill the missing values\n",
    "\n",
    "Q: your program reads a string like ex: \"_, _, x, _, _, _\" and returns the filled sequence\n",
    "\n",
    "Ex: \n",
    "<pre>\n",
    "Input1: \"_,_,_,24\"\n",
    "Output1: 6,6,6,6\n",
    "\n",
    "Input2: \"40,_,_,_,60\"\n",
    "Output2: 20,20,20,20,20\n",
    "\n",
    "Input3: \"80,_,_,_,_\"\n",
    "Output3: 16,16,16,16,16\n",
    "\n",
    "Input4: \"_,_,30,_,_,_,50,_,_\"\n",
    "Output4: 10,10,12,12,12,12,4,4,4\n",
    "\n",
    "</pre>\n",
    "\n"
   ]
  },
  {
   "cell_type": "code",
   "execution_count": 17,
   "metadata": {
    "colab": {},
    "colab_type": "code",
    "id": "nZmpzHs_B-k-"
   },
   "outputs": [
    {
     "name": "stdout",
     "output_type": "stream",
     "text": [
      "[2, 6, 8]\n",
      "**************************************************************************\n",
      " curve smoothing values are :\n",
      "[10, 10, 12, 12, 12, 12, 4, 4, 4]\n"
     ]
    }
   ],
   "source": [
    "# write your python code here\n",
    "# you can take the above example as sample input for your program to test\n",
    "# it should work for any general input try not to hard code for only given input strings\n",
    "#run your code in the function for each of the inputs mentioned above and make sure that you get the same results\n",
    "\n",
    "# you can free to change all these codes/structure\n",
    "def curve_smoothing(string):\n",
    "    index_of_cell_list  = []   # here i m creating a empty list to safe the repective output \n",
    "\n",
    "    split_string = string.split(',')  # here i m spliting a my varible for given prolem requirement \n",
    "   \n",
    "    for index in range(len(split_string)):\n",
    "        if split_string[index] != '_':\n",
    "             index_of_cell_list.append(index)  # here i m adding varible index to my empty list if empty list now equal to zero \n",
    "\n",
    "  \n",
    "    index_of_cell_list.append(len(split_string) - 1)\n",
    "\n",
    "    print( index_of_cell_list)\n",
    "    [2, 6, 8,]\n",
    "\n",
    "  \n",
    "    start = 0   # here i m creating a varible start from 0 to safe the my furtue value of the element \n",
    "\n",
    "    for element in  index_of_cell_list:\n",
    "       \n",
    "        cumulative_sum_prev_and_next_value = int(split_string[element]) if split_string[element] != '_' else 0\n",
    "        cumulative_sum_prev_and_next_value += int(split_string[start]) if split_string[\n",
    "                                                                                         start] != '_' and start != element else 0\n",
    "      # this above line code snippet taken from stack overflow \n",
    "       \n",
    "        integer_to_replace_each_previous_empty_cell = cumulative_sum_prev_and_next_value // (\n",
    "                element - start + 1)\n",
    "\n",
    "     \n",
    "        split_string = [integer_to_replace_each_previous_empty_cell if start <= x <= element else split_string[x] for x\n",
    "            in range(len(split_string))]\n",
    "\n",
    "       \n",
    "        start = element\n",
    "\n",
    "    return split_string\n",
    "\n",
    "\n",
    "S = \"_,_,30,_,_,_,50,_,_\"\n",
    "result = smoothed_values = curve_smoothing(S)\n",
    "\n",
    "print('**************************************************************************')\n",
    "\n",
    "print(\" curve smoothing values are :\")\n",
    "print(result)"
   ]
  },
  {
   "cell_type": "markdown",
   "metadata": {
    "colab_type": "text",
    "id": "RBz4pzlfB-lB"
   },
   "source": [
    "<h3> Q8: Filling the missing values in the specified formate</h3>\n",
    "You will be given a list of lists, each sublist will be of length 2 i.e. [[x,y],[p,q],[l,m]..[r,s]]\n",
    "consider its like a martrix of n rows and two columns\n",
    "1. the first column F will contain only 5 uniques values (F1, F2, F3, F4, F5)\n",
    "2. the second column S will contain only 3 uniques values (S1, S2, S3)\n",
    "<pre>\n",
    "your task is to find\n",
    "a. Probability of P(F=F1|S==S1), P(F=F1|S==S2), P(F=F1|S==S3)\n",
    "b. Probability of P(F=F2|S==S1), P(F=F2|S==S2), P(F=F2|S==S3)\n",
    "c. Probability of P(F=F3|S==S1), P(F=F3|S==S2), P(F=F3|S==S3)\n",
    "d. Probability of P(F=F4|S==S1), P(F=F4|S==S2), P(F=F4|S==S3)\n",
    "e. Probability of P(F=F5|S==S1), P(F=F5|S==S2), P(F=F5|S==S3)\n",
    "</pre>\n",
    "Ex:\n",
    "\n",
    "<pre>\n",
    "[[F1,S1],[F2,S2],[F3,S3],[F1,S2],[F2,S3],[F3,S2],[F2,S1],[F4,S1],[F4,S3],[F5,S1]]\n",
    "\n",
    "a. P(F=F1|S==S1)=1/4, P(F=F1|S==S2)=1/3, P(F=F1|S==S3)=0/3\n",
    "b. P(F=F2|S==S1)=1/4, P(F=F2|S==S2)=1/3, P(F=F2|S==S3)=1/3\n",
    "c. P(F=F3|S==S1)=0/4, P(F=F3|S==S2)=1/3, P(F=F3|S==S3)=1/3\n",
    "d. P(F=F4|S==S1)=1/4, P(F=F4|S==S2)=0/3, P(F=F4|S==S3)=1/3\n",
    "e. P(F=F5|S==S1)=1/4, P(F=F5|S==S2)=0/3, P(F=F5|S==S3)=0/3\n",
    "</pre>\n",
    "\n",
    "\n"
   ]
  },
  {
   "cell_type": "code",
   "execution_count": 29,
   "metadata": {
    "colab": {},
    "colab_type": "code",
    "id": "e-1giz1MB-lC"
   },
   "outputs": [
    {
     "name": "stdout",
     "output_type": "stream",
     "text": [
      " p ( A == F1 | B == S1 ) =1/4  p ( A == F1 | B == S2 ) =1/3  p ( A == F1 | B == S3 ) =0/3  p ( A == F2 | B == S1 ) =1/4  p ( A == F2 | B == S2 ) =1/3  p ( A == F2 | B == S3 ) =1/3  p ( A == F3 | B == S1 ) =0/4  p ( A == F3 | B == S2 ) =1/3  p ( A == F3 | B == S3 ) =1/3  p ( A == F4 | B == S1 ) =1/4  p ( A == F4 | B == S2 ) =0/3  p ( A == F4 | B == S3 ) =1/3  p ( A == F5 | B == S1 ) =1/4  p ( A == F5 | B == S2 ) =0/3  p ( A == F5 | B == S3 ) =0/3 "
     ]
    }
   ],
   "source": [
    "# write your python code here\n",
    "# you can take the above example as sample input for your program to test\n",
    "# it should work for any general input try not to hard code for only given input strings. Do not write 15 print statements.\n",
    "# you can use nested loops or dictionaries to write your code\n",
    "\n",
    "\n",
    "# you can free to change all these codes/structure\n",
    "def compute_conditional_probabilites(A,B ):\n",
    "    dinomirator = 0    # here i m intiating the dinomirator from 0\n",
    "    numerator =0        # here i m intiating the numerator from 0\n",
    "    \n",
    "    for i in range (len(Z)):\n",
    "        if (Z [i][1]== B):\n",
    "            dinomirator = dinomirator +1\n",
    "            if (Z[i][0]== A):\n",
    "                numerator = numerator +1\n",
    "            \n",
    "    print (\" p ( A == {} | B == {} ) ={}/{} \".format(A, B,  str(numerator), str(dinomirator )),end = \"\" ) # here we are executing our formula \n",
    "\n",
    "Z = [['F1','S1'],['F2','S2'],['F3','S3'],['F1','S2'],['F2','S3'],['F3','S2'],['F2','S1'],['F4','S1'],['F4','S3'],['F5','S1']]\n",
    "\n",
    "for i in  [\"F1\",\"F2\",\"F3\",\"F4\",\"F5\"]:  # lets call the output from given range \n",
    "    for j in [\"S1\",\"S2\", \"S3\"]:\n",
    "        compute_conditional_probabilites(i,j)\n",
    "\n",
    "\n"
   ]
  },
  {
   "cell_type": "markdown",
   "metadata": {
    "colab_type": "text",
    "id": "n4HS87QmB-lF"
   },
   "source": [
    "<h3> Q9: Given two sentances S1, S2</h3>\n",
    "You will be given two sentances S1, S2 your task is to find \n",
    "<pre>\n",
    "a. Number of common words between S1, S2\n",
    "b. Words in S1 but not in S2\n",
    "c. Words in S2 but not in S1\n",
    "</pre>\n",
    "\n",
    "Ex: \n",
    "<pre>\n",
    "S1= \"the first column F will contain only 5 uniques values\"\n",
    "S2= \"the second column S will contain only 3 uniques values\"\n",
    "Output:\n",
    "a. 7\n",
    "b. ['first','F','5']\n",
    "c. ['second','S','3']\n",
    "</pre>"
   ]
  },
  {
   "cell_type": "code",
   "execution_count": 19,
   "metadata": {
    "colab": {},
    "colab_type": "code",
    "id": "Ez7hlHK0B-lG"
   },
   "outputs": [
    {
     "name": "stdout",
     "output_type": "stream",
     "text": [
      "7\n",
      "['F', 'first', '5']\n",
      "['3', 'second', 'S']\n"
     ]
    }
   ],
   "source": [
    "# write your python code here\n",
    "# you can take the above example as sample input for your program to test\n",
    "# it should work for any general input try not to hard code for only given input strings\n",
    "\n",
    "# you can free to change all these codes/structure\n",
    "def string_features(S1, S2):\n",
    "    \n",
    "    S1_words = set(S1.split())                       # here i m creating two varible so my i get split output \n",
    "    S2_words = set(S2.split())\n",
    "    \n",
    "    M = len( S1_words & S2_words)   # here i using & because i want common words from both and len because want number of common \n",
    "    \n",
    "    N= set(S1_words) - (set(S2_words)) \n",
    "    list_of_N = list(N)\n",
    "    \n",
    "    O = set(S2_words) -(set(S1_words))\n",
    "    list_of_O = list(O)\n",
    "    \n",
    "    return M, list_of_N, list_of_O\n",
    "\n",
    "S1= \"the first column F will contain only 5 uniques values\"\n",
    "S2= \"the second column S will contain only 3 uniques values\"\n",
    "\n",
    "\n",
    "M,list_of_N,list_of_O = string_features(S1, S2)\n",
    "\n",
    "print(M)\n",
    "print(list_of_N)\n",
    "print(list_of_O)"
   ]
  },
  {
   "cell_type": "markdown",
   "metadata": {
    "colab_type": "text",
    "id": "XefXVEjCB-lI"
   },
   "source": [
    "<h3> Q10: Given two sentances S1, S2</h3>\n",
    "You will be given a list of lists, each sublist will be of length 2 i.e. [[x,y],[p,q],[l,m]..[r,s]]\n",
    "consider its like a martrix of n rows and two columns\n",
    "\n",
    "a. the first column Y will contain interger values <br>\n",
    "b. the second column $Y_{score}$ will be having float values <br>\n",
    "Your task is to find the value of $f(Y,Y_{score}) = -1*\\frac{1}{n}\\Sigma_{for each Y,Y_{score} pair}(Ylog10(Y_{score})+(1-Y)log10(1-Y_{score}))$ here n is the number of rows in the matrix\n",
    "<pre>\n",
    "Ex:\n",
    "[[1, 0.4], [0, 0.5], [0, 0.9], [0, 0.3], [0, 0.6], [1, 0.1], [1, 0.9], [1, 0.8]]\n",
    "output:\n",
    "0.4243099\n",
    "</pre>\n",
    "$\\frac{-1}{8}\\cdot((1\\cdot log_{10}(0.4)+0\\cdot log_{10}(0.6))+(0\\cdot log_{10}(0.5)+1\\cdot log_{10}(0.5)) + ... + (1\\cdot log_{10}(0.8)+0\\cdot log_{10}(0.2)) )$"
   ]
  },
  {
   "cell_type": "code",
   "execution_count": 26,
   "metadata": {
    "colab": {},
    "colab_type": "code",
    "id": "N9zkagyNB-lJ"
   },
   "outputs": [
    {
     "name": "stdout",
     "output_type": "stream",
     "text": [
      "0.42430993457031635\n"
     ]
    }
   ],
   "source": [
    "# write your python code here\n",
    "# you can take the above example as sample input for your program to test\n",
    "# it should work for any general input try not to hard code for only given input strings\n",
    "\n",
    "\n",
    "# you can free to change all these codes/structure\n",
    "\n",
    "from math import log \n",
    "\n",
    "def compute_log_loss(A):\n",
    "    loss = 0   # at the starting i m intiating my loss variable from 0 to safe the my output \n",
    "    for row in A:\n",
    "        loss += (row[0]* log(row[1],10)) + ((1- row[0])* log( 1- row[1],10))  # here is simple execution of formula \n",
    "        log_loss = - 1 * loss / len (A)\n",
    "    return log_loss\n",
    "         \n",
    "    \n",
    "    \n",
    "\n",
    "A = [[1, 0.4], [0, 0.5], [0, 0.9], [0, 0.3], [0, 0.6], [1, 0.1], [1, 0.9], [1, 0.8]]\n",
    "loss = compute_log_loss(A)\n",
    "print(loss)"
   ]
  },
  {
   "cell_type": "code",
   "execution_count": null,
   "metadata": {},
   "outputs": [],
   "source": []
  }
 ],
 "metadata": {
  "colab": {
   "collapsed_sections": [],
   "name": "1.Python Assignment.ipynb",
   "provenance": []
  },
  "kernelspec": {
   "display_name": "Python 3",
   "language": "python",
   "name": "python3"
  },
  "language_info": {
   "codemirror_mode": {
    "name": "ipython",
    "version": 3
   },
   "file_extension": ".py",
   "mimetype": "text/x-python",
   "name": "python",
   "nbconvert_exporter": "python",
   "pygments_lexer": "ipython3",
   "version": "3.8.8"
  }
 },
 "nbformat": 4,
 "nbformat_minor": 1
}
